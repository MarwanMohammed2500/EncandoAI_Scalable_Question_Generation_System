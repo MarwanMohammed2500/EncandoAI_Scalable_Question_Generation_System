{
 "cells": [
  {
   "cell_type": "markdown",
   "id": "b9ebdbae",
   "metadata": {},
   "source": [
    "# Setup"
   ]
  },
  {
   "cell_type": "markdown",
   "id": "7b69760e",
   "metadata": {},
   "source": [
    "## Load libraries and environment variables"
   ]
  },
  {
   "cell_type": "code",
   "execution_count": 1,
   "id": "43a0bf3b",
   "metadata": {},
   "outputs": [],
   "source": [
    "# Vector storage\n",
    "from langchain_community.vectorstores import InMemoryVectorStore\n",
    "\n",
    "# Embeddings Model and LLM\n",
    "from langchain_google_genai import GoogleGenerativeAIEmbeddings, ChatGoogleGenerativeAI\n",
    "\n",
    "# Load Environment Variables\n",
    "import os\n",
    "from dotenv import load_dotenv\n",
    "load_dotenv()\n",
    "google_api = os.getenv(\"GOOGLE_API_KEY\")\n",
    "\n",
    "# Text Splitter\n",
    "from langchain.text_splitter import RecursiveCharacterTextSplitter\n",
    "\n",
    "# Document Loader\n",
    "from langchain_community.document_loaders import TextLoader, PyPDFLoader\n",
    "\n",
    "# Prompt Template\n",
    "from langchain_core.prompts import PromptTemplate\n",
    "\n",
    "# RegEx for JSON responses\n",
    "import re\n",
    "import json\n",
    "\n",
    "# For randomizing\n",
    "import random"
   ]
  },
  {
   "cell_type": "markdown",
   "id": "a30c3a74",
   "metadata": {},
   "source": [
    "## Prepare the embeddings model"
   ]
  },
  {
   "cell_type": "code",
   "execution_count": 2,
   "id": "703357b3",
   "metadata": {},
   "outputs": [],
   "source": [
    "out_dim = 768\n",
    "embeddings = GoogleGenerativeAIEmbeddings(model=\"models/gemini-embedding-001\", output_dimensionality=out_dim)"
   ]
  },
  {
   "cell_type": "markdown",
   "id": "e283b600",
   "metadata": {},
   "source": [
    "## Prepare the vector Store"
   ]
  },
  {
   "cell_type": "markdown",
   "id": "c303b6b1",
   "metadata": {},
   "source": [
    "## Read Toy PDF"
   ]
  },
  {
   "cell_type": "code",
   "execution_count": 3,
   "id": "9efecc83",
   "metadata": {},
   "outputs": [],
   "source": [
    "# Load the file\n",
    "pdf_loader = PyPDFLoader(\"Lecture 1.pdf\")\n",
    "pdf_documents = pdf_loader.load()\n",
    "pdf_contents = [doc.page_content for doc in pdf_documents]\n",
    "\n",
    "# Split the content into chunks\n",
    "pdf_splitter = RecursiveCharacterTextSplitter(chunk_size=800, chunk_overlap=100)\n",
    "pdf_chunks = pdf_splitter.create_documents(pdf_contents)\n",
    "\n",
    "# Store the vector\n",
    "vector_store_pdf = InMemoryVectorStore.from_documents(pdf_chunks, embeddings)"
   ]
  },
  {
   "cell_type": "markdown",
   "id": "57617346",
   "metadata": {},
   "source": [
    "## Read Toy TXT"
   ]
  },
  {
   "cell_type": "code",
   "execution_count": 4,
   "id": "650a383e",
   "metadata": {},
   "outputs": [],
   "source": [
    "# Load the file\n",
    "txt_loader = TextLoader(\"transcript_1.txt\")\n",
    "txt_documents = txt_loader.load()\n",
    "txt_contents = [doc.page_content for doc in txt_documents]\n",
    "\n",
    "# Split the content into chunks\n",
    "txt_splitter = RecursiveCharacterTextSplitter(chunk_size=800, chunk_overlap=100)\n",
    "txt_chunks = txt_splitter.create_documents(txt_contents)\n",
    "\n",
    "# Store the vector\n",
    "vector_store_txt = InMemoryVectorStore.from_documents(txt_chunks, embeddings)"
   ]
  },
  {
   "cell_type": "markdown",
   "id": "56bd6b06",
   "metadata": {},
   "source": [
    "## Test Similarity search"
   ]
  },
  {
   "cell_type": "code",
   "execution_count": 5,
   "id": "4507a482",
   "metadata": {},
   "outputs": [
    {
     "name": "stdout",
     "output_type": "stream",
     "text": [
      "Content: AI - Definitions\n",
      "1. D efinitions\n",
      "1.1\n",
      " Artificial Intelligence (AI)\n",
      "The definitions of AI outlined in textbooks  \n",
      "(a) 'The exciting new effort to make \n",
      "computers think ... machines with\n",
      "minds, in the full and literal sense' \n",
      "(Haugeland, 1985) \n",
      "'The automation of activities that we \n",
      "associate with hum\n",
      "\n",
      "Score: 0.8548709876539596\n",
      "---\n",
      "\n",
      "Content: Introduction \n",
      " What  is  Artificial  Intelligence ? \n",
      "• John McCarthy, who coined the term Artificial Intelligence in 1956,\n",
      "defines it as \"the science and engineering of making\n",
      "intelligent machines\",  especially  intelligent  computer  programs.\n",
      "• Artificial Intelligence (AI) is the intelligence of m\n",
      "\n",
      "Score: 0.8512835612803957\n",
      "---\n",
      "\n",
      "Content: AI - Definitions \n",
      "1.6 Soft  or   Weak   AI \n",
      "▪ Weak AI  refers to the use of software to study or accomplish specific\n",
      "problem solving or reasoning tasks that do not encompass the full\n",
      "range of human cognitive abilities.\n",
      "▪ Example : a chess program such as  Deep Blue.\n",
      "▪ Weak AI  does not achieve self-\n",
      "\n",
      "Score: 0.850060632411598\n",
      "---\n",
      "\n",
      "Content: human intelligence,\n",
      "◊ If  it  can  do  typically  human  tasks,\n",
      "◊ If  it  can  apply a wide range of background knowledge and\n",
      "◊ If  it  has  some  degree  of  self-awareness.\n",
      "▪ Strong AI  aims to build machines whose overall in tellectual ability\n",
      "is indistinguishable  from  that  of  a  human  being\n",
      "\n",
      "Score: 0.848781636584902\n",
      "---\n",
      "\n",
      "Content: Applications of AI \n",
      "• Expert Systems\n",
      "Systems in which human expertise is held in the form of rules\n",
      "■ It enable the system to diagnose situations without the human expert\n",
      "being present.\n",
      "■ A Man-machine system with specialized problem-solving expertise.\n",
      "The \"expertise\" consists of knowledge about a pa\n",
      "\n",
      "Score: 0.8465236948785276\n",
      "---\n",
      "\n"
     ]
    }
   ],
   "source": [
    "docs = vector_store_pdf.similarity_search_with_score(\"What does weak AI refer to?\", k=5)\n",
    "contexts = []\n",
    "for doc in docs:\n",
    "    print(f\"Content: {doc[0].page_content[:300]}\\n\\nScore: {doc[1]}\\n---\\n\")\n",
    "    # print(doc)\n",
    "    contexts.append(doc[0].page_content)"
   ]
  },
  {
   "cell_type": "markdown",
   "id": "88515c07",
   "metadata": {},
   "source": [
    "## Create the system prompt template"
   ]
  },
  {
   "cell_type": "code",
   "execution_count": 6,
   "id": "11bb1654",
   "metadata": {},
   "outputs": [],
   "source": [
    "template = \"\"\"You are a college professor creating an exam for students.\n",
    "Create {num_questions} MCQs for an upcoming exam with the following qualities:\n",
    "- Exactly one correct answer grounded in the source text.\n",
    "- Three plausible but incorrect \"distractor\" options.\n",
    "- Do not include “All of the above” or “None of the above.”\n",
    "- The question must be clear and answerable based only on the source text.\n",
    "- Don't directly say things like \"According to the source text\" or \"In Page X it was mentioned...\"\n",
    "\n",
    "Each question should follow this JSON schema:\n",
    "json(\"Question Number\" (an integer): json(\n",
    "  \"Question\": \"string\",\n",
    "  \"Options\": [\"(a) Option 1\", \"(b) Option 2\", \"(c) Option 3\", \"(d) Option 2\"],\n",
    "  \"Answer\": \"string\"\n",
    "))\n",
    "Respond ONLY in valid JSON format\n",
    "---\n",
    "Source Text:\n",
    "{context}\"\"\"\n",
    "\n",
    "prompt_template = PromptTemplate(\n",
    "    input_variables=[\"num_questions\", \"context\"],\n",
    "    template=template)"
   ]
  },
  {
   "cell_type": "code",
   "execution_count": 7,
   "id": "30644e17",
   "metadata": {},
   "outputs": [],
   "source": [
    "llm = ChatGoogleGenerativeAI(model=\"gemini-2.5-flash\")\n",
    "\n",
    "random.seed(42)\n",
    "chunk_content = [chunk.page_content for chunk in pdf_chunks]\n",
    "context = \"\\n\\n\".join(random.sample(chunk_content, k=5))\n",
    "prompt = prompt_template.invoke({\"num_questions\":2, \"context\":context})\n",
    "\n",
    "response = llm.invoke(prompt)"
   ]
  },
  {
   "cell_type": "code",
   "execution_count": 8,
   "id": "d3ea9c4d",
   "metadata": {},
   "outputs": [],
   "source": [
    "raw = response.content.strip()\n",
    "pattern = r\"```json\\n(.*?)\\n```\"\n",
    "match = re.search(pattern, raw, re.DOTALL)\n",
    "\n",
    "if match:\n",
    "    json_string = match.group(1)\n",
    "    json_response = json.loads(json_string)"
   ]
  },
  {
   "cell_type": "code",
   "execution_count": 9,
   "id": "23e6b20d",
   "metadata": {},
   "outputs": [
    {
     "data": {
      "text/plain": [
       "{'1': {'Question': 'In the context of AI, which item is categorized as an AI technique?',\n",
       "  'Options': ['(a) Cognitive Science',\n",
       "   '(b) Constraint satisfaction',\n",
       "   '(c) Engineering based AI Goal',\n",
       "   '(d) Intelligent behavior'],\n",
       "  'Answer': '(b) Constraint satisfaction'},\n",
       " '2': {'Question': 'A described disadvantage of the \"Generate and test\" approach is that it:',\n",
       "  'Options': ['(a) Often struggles with problems requiring unique solutions, such as the 12 unique solutions of a board puzzle.',\n",
       "   '(b) Is not very efficient and generates many wrong assignments.',\n",
       "   '(c) Requires a predefined set of variables and domains for each variable, making it inflexible.',\n",
       "   '(d) Lacks the ability to maintain logical relations among variables when positions change.'],\n",
       "  'Answer': '(b) Is not very efficient and generates many wrong assignments.'}}"
      ]
     },
     "execution_count": 9,
     "metadata": {},
     "output_type": "execute_result"
    }
   ],
   "source": [
    "json_response"
   ]
  },
  {
   "cell_type": "code",
   "execution_count": 10,
   "id": "c09b1529",
   "metadata": {},
   "outputs": [],
   "source": [
    "with open('response.json', 'w') as f:\n",
    "    json.dump(json_response, f)"
   ]
  },
  {
   "cell_type": "code",
   "execution_count": 11,
   "id": "6054f79f",
   "metadata": {},
   "outputs": [
    {
     "name": "stdout",
     "output_type": "stream",
     "text": [
      "Content: AI Techniques \n",
      "4. AI Techniques\n",
      "Various techniques that have evolved, can be applied to a variety of AI tasks.\n",
      "The techniques are concerned with how  we represent,  manipulate and reason\n",
      "with  knowledge  in  order  to  solve  problems.\n",
      "Example  \n",
      "• Techniques, not all \"intelligent\" but used to behave\n",
      "\n",
      "Score: 0.8427080987652675\n",
      "---\n",
      "\n",
      "Content: AI Techniques \n",
      "• Genetic Algorithms (GA)\n",
      "■ GAs are part of evolutionary computing, a rapidly growing area of AI.\n",
      "■ Genetic algorithms are implemented as a computer simulation, where\n",
      "techniques are inspired by evolutionary biology.\n",
      "■ Mechanics of biological evolution\n",
      "◊ Every organism has a set of rul\n",
      "\n",
      "Score: 0.8414914468750248\n",
      "---\n",
      "\n",
      "Content: Introduction \n",
      " What  is  Artificial  Intelligence ? \n",
      "• John McCarthy, who coined the term Artificial Intelligence in 1956,\n",
      "defines it as \"the science and engineering of making\n",
      "intelligent machines\",  especially  intelligent  computer  programs.\n",
      "• Artificial Intelligence (AI) is the intelligence of m\n",
      "\n",
      "Score: 0.840588793450958\n",
      "---\n",
      "\n",
      "Content: AI Techniques \n",
      "• Reinforcement Learning (RL)\n",
      "■ RL is  learning from interaction with an environment;  from the\n",
      "consequences of action, rather than from explicit teaching.\n",
      "■ RL  is conducted within the mathematical framework of Markov decision\n",
      "p\n",
      "rocesses (MDPs).\n",
      "■ The basic RL model consists :   a se\n",
      "\n",
      "Score: 0.8405867879877665\n",
      "---\n",
      "\n",
      "Content: AI Techniques \n",
      "• Constraint Satisfaction Techniques\n",
      "■ Constraint  is a logical relation among  variables.– The constraints\n",
      "relate objects without precisely specifying their positions; moving any\n",
      "one, the relation is still maintained.\n",
      "■ Constraint satisfaction  is a process of finding a solution to a\n",
      "\n",
      "Score: 0.8363078474880069\n",
      "---\n",
      "\n",
      "Content: AI Techniques \n",
      "• Generate and Test (GT)\n",
      "■ Most algorithms for solving Constrain Satisfaction Problems (CSPs)\n",
      "search systematically through the possible assignments of values.\n",
      "◊ CSP algorithms guarantee to find a solution, if one exists, or to\n",
      "prove that the problem is unsolvable.\n",
      "◊ the disadvantage \n",
      "\n",
      "Score: 0.8658911491895146\n",
      "---\n",
      "\n",
      "Content: Disadvantages  \n",
      "◊ Not very efficient ; generates many wrong assignments of values to\n",
      "variables which are rejected in the testing phase.\n",
      "◊ Generator leaves conflicting instantiations and it generates other\n",
      "assignments independently of the conflict.\n",
      "◊ For better efficiency GT approach need to be suppo\n",
      "\n",
      "Score: 0.8627752467579444\n",
      "---\n",
      "\n",
      "Content: – Chronological backtracking : undo everything as we move back\n",
      "\"up\" the tree to a suitable node.\n",
      "– Dependency directed backtracking : only withdraw choices that\n",
      "\"matter\" (i.e those on which dead end depends).\n",
      "The four other types of search strategies are :  \n",
      "◊ Hill climbing: Like depth first but inv\n",
      "\n",
      "Score: 0.8098494121760255\n",
      "---\n",
      "\n",
      "Content: AI Techniques \n",
      "• Genetic Algorithms (GA)\n",
      "■ GAs are part of evolutionary computing, a rapidly growing area of AI.\n",
      "■ Genetic algorithms are implemented as a computer simulation, where\n",
      "techniques are inspired by evolutionary biology.\n",
      "■ Mechanics of biological evolution\n",
      "◊ Every organism has a set of rul\n",
      "\n",
      "Score: 0.8093544640549516\n",
      "---\n",
      "\n",
      "Content: AI Techniques\n",
      "• Tree Searching\n",
      "■ Many problems (e.g. goal reductio n, constraint networks) can be\n",
      "described in the form of a search tree. A solution to the problem is\n",
      "obtained by finding a path through this tree.\n",
      "■ A search through the entire tree, until a satisfactory path is found, is\n",
      "called exhau\n",
      "\n",
      "Score: 0.808079665402875\n",
      "---\n",
      "\n"
     ]
    }
   ],
   "source": [
    "for i in range(len(json_response)):\n",
    "    docs = vector_store_pdf.similarity_search_with_score(json_response[str(i+1)][\"Question\"], k=5)\n",
    "    for doc in docs:\n",
    "        score = doc[1]\n",
    "        content = doc[0].page_content\n",
    "        if score < 0.6:\n",
    "            del json_response[str(i+1)]\n",
    "            continue\n",
    "        print(f\"Content: {doc[0].page_content[:300]}\\n\\nScore: {doc[1]}\\n---\\n\")"
   ]
  },
  {
   "cell_type": "code",
   "execution_count": null,
   "id": "b0beb8b3",
   "metadata": {},
   "outputs": [],
   "source": []
  }
 ],
 "metadata": {
  "kernelspec": {
   "display_name": "encando",
   "language": "python",
   "name": "python3"
  },
  "language_info": {
   "codemirror_mode": {
    "name": "ipython",
    "version": 3
   },
   "file_extension": ".py",
   "mimetype": "text/x-python",
   "name": "python",
   "nbconvert_exporter": "python",
   "pygments_lexer": "ipython3",
   "version": "3.13.3"
  }
 },
 "nbformat": 4,
 "nbformat_minor": 5
}
